{
 "cells": [
  {
   "cell_type": "markdown",
   "metadata": {},
   "source": [
    "# Unsupervised Clustering using VQE\n",
    "\n",
    "### DataPoint\n",
    "First, we'll have to create a DataPoint class, that can be used to store and compare input-datapoints. We'll do this as follows, including a ```dist``` function to compute the squared-distance between two datapoints:"
   ]
  },
  {
   "cell_type": "code",
   "execution_count": 3,
   "metadata": {},
   "outputs": [],
   "source": [
    "# This import is required in python version < 3.11 to allos reference to DataPoint inside definition of DataPoint\n",
    "from __future__ import annotations\n",
    "\n",
    "\n",
    "# Helper functions\n",
    "def sqr(x: float):\n",
    "    return x * x\n",
    "\n",
    "\n",
    "class DataPoint:\n",
    "    x: float\n",
    "    y: float\n",
    "\n",
    "    def __init__(self, x: float, y: float):\n",
    "        self.x = x\n",
    "        self.y = y\n",
    "\n",
    "    def dist(self, o: DataPoint) -> float:\n",
    "        return sqr(o.x - self.x) + sqr(o.y - self.y)"
   ]
  },
  {
   "cell_type": "markdown",
   "metadata": {},
   "source": [
    "Also implement the ```map``` function, that can be used to map Data Points onto the Bloch Sphere:"
   ]
  },
  {
   "cell_type": "code",
   "execution_count": 12,
   "metadata": {},
   "outputs": [],
   "source": [
    "def map(a: float, b: float, c: float, d: float, e: float) -> float:\n",
    "    return d + ((a - b)/(c - b)) * (e - d)"
   ]
  },
  {
   "cell_type": "markdown",
   "metadata": {},
   "source": [
    "### Qiskit\n",
    "Now, we start working with Qiskit! Import all the necessary elements:"
   ]
  },
  {
   "cell_type": "code",
   "execution_count": 64,
   "metadata": {},
   "outputs": [],
   "source": [
    "import numpy as np\n",
    "\n",
    "import matplotlib.pyplot as plt\n",
    "\n",
    "from qiskit import Aer\n",
    "from qiskit import QuantumCircuit\n",
    "from qiskit import transpile\n",
    "from qiskit.algorithms.optimizers import SPSA\n",
    "from qiskit.quantum_info import state_fidelity\n",
    "\n",
    "from tqdm import tqdm\n",
    "import math"
   ]
  },
  {
   "cell_type": "code",
   "execution_count": null,
   "metadata": {},
   "outputs": [
    {
     "data": {
      "image/png": "[encoded data removed]",
      "text/plain": [
       "<Figure size 432x288 with 1 Axes>"
      ]
     },
     "metadata": {
      "needs_background": "light"
     },
     "output_type": "display_data"
    },
    {
     "name": "stderr",
     "output_type": "stream",
     "text": [
      "100%|██████████| 10/10 [00:01<00:00,  7.05it/s]\n",
      "100%|██████████| 10/10 [00:01<00:00,  7.53it/s]\n",
      "100%|██████████| 10/10 [00:01<00:00,  7.38it/s]\n",
      "100%|██████████| 10/10 [00:01<00:00,  7.76it/s]\n",
      "100%|██████████| 10/10 [00:01<00:00,  7.71it/s]\n",
      "100%|██████████| 10/10 [00:01<00:00,  7.71it/s]\n",
      "100%|██████████| 10/10 [00:01<00:00,  7.72it/s]\n",
      "100%|██████████| 10/10 [00:01<00:00,  7.62it/s]\n",
      "100%|██████████| 10/10 [00:01<00:00,  7.68it/s]\n",
      "100%|██████████| 10/10 [00:01<00:00,  7.70it/s]\n",
      "100%|██████████| 10/10 [00:01<00:00,  7.21it/s]\n",
      "100%|██████████| 10/10 [00:01<00:00,  7.68it/s]\n",
      "100%|██████████| 10/10 [00:01<00:00,  7.56it/s]\n",
      "100%|██████████| 10/10 [00:01<00:00,  7.57it/s]\n",
      "100%|██████████| 10/10 [00:01<00:00,  7.12it/s]\n",
      "100%|██████████| 10/10 [00:01<00:00,  7.21it/s]\n",
      "100%|██████████| 10/10 [00:01<00:00,  6.06it/s]\n",
      "100%|██████████| 10/10 [00:01<00:00,  5.94it/s]\n",
      "100%|██████████| 10/10 [00:01<00:00,  5.66it/s]\n",
      "100%|██████████| 10/10 [00:01<00:00,  6.40it/s]\n",
      "100%|██████████| 10/10 [00:01<00:00,  7.22it/s]\n",
      "100%|██████████| 10/10 [00:01<00:00,  6.06it/s]\n",
      "100%|██████████| 10/10 [00:01<00:00,  7.02it/s]\n",
      "100%|██████████| 10/10 [00:01<00:00,  6.92it/s]\n",
      "100%|██████████| 10/10 [00:01<00:00,  6.54it/s]\n",
      "100%|██████████| 10/10 [00:01<00:00,  6.70it/s]\n",
      "100%|██████████| 10/10 [00:01<00:00,  6.59it/s]\n",
      " 20%|██        | 2/10 [00:00<00:01,  7.62it/s]"
     ]
    }
   ],
   "source": [
    "# Fix the np random seed\n",
    "np.random.seed(12)\n",
    "\n",
    "#\n",
    "# Hard-code the data points that the algorithm will be performed on\n",
    "#\n",
    "data_points = [DataPoint(np.random.uniform(low=0, high=10), np.random.uniform(low=0, high=10)) for i in range(10)]\n",
    "\n",
    "# Plot the datapoints\n",
    "plt.title(\"Input Data Points\")\n",
    "plt.scatter(\n",
    "    [dp.x for dp in data_points],\n",
    "    [dp.y for dp in data_points]\n",
    ")\n",
    "plt.show()\n",
    "\n",
    "#\n",
    "# Hard-code the two reference states on the bloch-sphere that we will use as references for two clusters\n",
    "#\n",
    "# [1, 0] = |0> and [0, 1] = |1>\n",
    "reference_points = [[1, 0], [0, 1]]\n",
    "\n",
    "circuit_counter = 0\n",
    "# Function: setup the variational form according to given parameters\n",
    "def setup_variational_form(dp: DataPoint, params) -> QuantumCircuit:\n",
    "    global circuit_counter\n",
    "    \n",
    "    q_circuit = QuantumCircuit(1)\n",
    "    q_circuit.name = \"circuit\" + str(circuit_counter)\n",
    "    circuit_counter += 1\n",
    "    q_circuit.initialize([1, 0], 0)\n",
    "    \n",
    "    q_circuit.u(\n",
    "        map(dp.x, 0, 10, -math.pi, math.pi),\n",
    "        map(dp.y, 0, 10, -math.pi, math.pi),\n",
    "        0,\n",
    "        0\n",
    "    )\n",
    "    q_circuit.u(params[0], params[1], 0, 0)\n",
    "    \n",
    "    #print(\"Quantum Circuit:\")\n",
    "    #print(q_circuit)\n",
    "    \n",
    "    q_circuit.save_statevector()\n",
    "    \n",
    "    return q_circuit\n",
    "\n",
    "#setup_variational_form(DataPoint(0, 0), [0, 0])\n",
    "\n",
    "\n",
    "# Objective function\n",
    "def objective(params) -> float:\n",
    "    total_cost = 0\n",
    "    \n",
    "    # Select the qiskit backend\n",
    "    qiskit_backend = Aer.get_backend(\"aer_simulator\")\n",
    "    \n",
    "    \n",
    "    for i in tqdm(range(len(data_points))):\n",
    "        for j in range(len(data_points)):\n",
    "            if i != j:\n",
    "                #print(\"\\tConsidering point [\" + str(i) + \", \" + str(j) + \"]\")\n",
    "                # Compute the fidelity\n",
    "                job_dp1 = qiskit_backend.run(\n",
    "                    transpile(\n",
    "                        setup_variational_form(data_points[i], params),\n",
    "                        backend=qiskit_backend\n",
    "                    )\n",
    "                )\n",
    "                #job_dp1.wait_for_final_state()\n",
    "\n",
    "                job_dp2 = qiskit_backend.run(\n",
    "                    transpile(\n",
    "                        setup_variational_form(data_points[j], params),\n",
    "                        backend=qiskit_backend\n",
    "                    )\n",
    "                )\n",
    "                #job_dp2.wait_for_final_state()\n",
    "                \n",
    "                # Compute fidelities with reference points\n",
    "                for r in reference_points:\n",
    "                    # Add the input-set-distance to the cost\n",
    "                    cost = data_points[i].dist(data_points[j])\n",
    "                    cost *= state_fidelity(r, job_dp1.result().get_statevector())\n",
    "                    cost *= state_fidelity(r, job_dp2.result().get_statevector())\n",
    "                    total_cost += cost\n",
    "    \n",
    "    #print(\"Total cost: \" + str(total_cost))\n",
    "                    \n",
    "    return total_cost\n",
    "\n",
    "# Select the right optimizer\n",
    "optimizer = SPSA(maxiter=20)\n",
    "\n",
    "# Initialize the parameters with random values\n",
    "params_init = np.random.rand(2)\n",
    "\n",
    "# Perform the optimization and store the result\n",
    "optimal_params = optimizer.minimize(fun=objective, x0=params_init).x\n",
    "\n",
    "print(optimal_params)\n",
    "print(\"Total cost: \" + str(objective(optimal_params)))\n",
    "\n"
   ]
  },
  {
   "cell_type": "code",
   "execution_count": null,
   "metadata": {},
   "outputs": [],
   "source": []
  }
 ],
 "metadata": {
  "kernelspec": {
   "display_name": "Python 3",
   "language": "python",
   "name": "python3"
  },
  "language_info": {
   "codemirror_mode": {
    "name": "ipython",
    "version": 3
   },
   "file_extension": ".py",
   "mimetype": "text/x-python",
   "name": "python",
   "nbconvert_exporter": "python",
   "pygments_lexer": "ipython3",
   "version": "3.7.6"
  }
 },
 "nbformat": 4,
 "nbformat_minor": 4
}
